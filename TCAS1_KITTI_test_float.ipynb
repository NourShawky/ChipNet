{
 "cells": [
  {
   "cell_type": "code",
   "execution_count": null,
   "metadata": {},
   "outputs": [],
   "source": [
    "import itertools\n",
    "import numpy as np\n",
    "from PIL import Image,ImageDraw\n",
    "from random import shuffle\n",
    "from shutil import rmtree\n",
    "from os import mkdir\n",
    "\n",
    "import pykitti\n",
    "import pykitti_obj\n",
    "\n",
    "\n",
    "from keras.models import load_model, Model\n"
   ]
  },
  {
   "cell_type": "code",
   "execution_count": null,
   "metadata": {},
   "outputs": [],
   "source": [
    "# Raw Data directory information\n",
    "basedir = ''\n",
    "session = 'KITTI_road/testing/'\n",
    "\n",
    "\n",
    "res_cam_dir = basedir+session+'res_cam/'\n",
    "res_BEV_dir = basedir+session+'res_BEV/'\n",
    "res_vis_dir = basedir+session+'res_vis/'\n",
    "\n",
    "\n",
    "try:\n",
    "    rmtree(res_cam_dir)\n",
    "except OSError:\n",
    "    pass\n",
    "try:\n",
    "    rmtree(res_BEV_dir)\n",
    "except OSError:\n",
    "    pass\n",
    "try:\n",
    "    rmtree(res_vis_dir)\n",
    "except OSError:\n",
    "    pass\n",
    "\n",
    "\n",
    "\n",
    "\n",
    "mkdir(res_cam_dir)\n",
    "mkdir(res_BEV_dir)\n",
    "mkdir(res_vis_dir)\n",
    "\n",
    "\n",
    "\n",
    "dataset = pykitti_obj.obj(basedir+session)\n",
    "\n",
    "model_name=basedir+'TCAS1_KITTI2-10layer-float.h5'\n",
    "\n",
    "model=load_model(model_name)\n",
    "print model.summary()"
   ]
  },
  {
   "cell_type": "code",
   "execution_count": null,
   "metadata": {},
   "outputs": [],
   "source": [
    "# assign generator\n",
    "\n",
    "cam2_iterator   = dataset.cam2\n",
    "velo_iterator   = dataset.velo\n",
    "calib_iterator  = dataset.calib\n",
    "print len(dataset)"
   ]
  },
  {
   "cell_type": "code",
   "execution_count": null,
   "metadata": {},
   "outputs": [],
   "source": [
    "from skimage import util\n",
    "from skimage.measure import label ,regionprops\n",
    "def getLargestCC(segmentation):\n",
    "    labels = label(segmentation,background=0.0)\n",
    "    areas=np.bincount(labels.flat)\n",
    "    areas[0]=0\n",
    "    \n",
    "    largestCC = labels == np.argmax(areas)\n",
    "    return largestCC"
   ]
  },
  {
   "cell_type": "code",
   "execution_count": null,
   "metadata": {},
   "outputs": [],
   "source": [
    "# for i_sample in range(len(dataset)):\n",
    "for i_sample in [2]:\n",
    "    cam2   = next(cam2_iterator)\n",
    "    velo   = next(velo_iterator)\n",
    "    calib  = next(calib_iterator)\n",
    "    sph        = pykitti_obj.xyz2sph(velo)\n",
    "    data_sph   = pykitti_obj.sph_prepare2(sph,45)\n",
    "    Tr_velo_to_img = pykitti_obj.read_calib_file(calib)\n",
    "\n",
    "    \n",
    "    \n",
    "    words=calib.replace('/',' ').replace('_',' ').replace('.',' ').split()\n",
    "#     print words\n",
    "    res_name=words[-3]+'_road_'+words[-2]+'.png'\n",
    "#     print res_name\n",
    "    \n",
    "    \n",
    "    \n",
    "    \n",
    "    x_dset=np.zeros([1,64,180,14])\n",
    "    x_dset[0,:,:,:]=data_sph[:,:,:]\n",
    "       \n",
    "    \n",
    "    y_dset=model.predict(x_dset,batch_size=1,verbose=0)\n",
    "\n",
    "    \n",
    "    x_shift = 0.5*np.pi/180\n",
    "    y_shift = 0.44*np.pi/180\n",
    "    threshold=200\n",
    "    \n",
    "    \n",
    "    y_thr = util.img_as_ubyte(y_dset[0]) > threshold\n",
    "#     y_clo = binary_closing(y_thr,disk(5))\n",
    "#     y_clo = binary_opening(y_thr,disk(5))\n",
    "    y_fil = getLargestCC(y_thr)\n",
    "    \n",
    "    boundary=[]\n",
    "    boundary_xyz=[]\n",
    "\n",
    "\n",
    "\n",
    "\n",
    "    for j in range(180):\n",
    "        for i in range(64):\n",
    "            if (y_fil[i,j]>0 and data_sph[i-1,j,0]>0):\n",
    "#                 x=(-data_sph[i-1,j,1]+10)*20\n",
    "#                 y=(data_sph[i-1,j,0]-6)*20\n",
    "#                 x_velo=data_sph[i-1,j,0]\n",
    "#                 y_velo=data_sph[i-1,j,1]\n",
    "#                 z_velo=data_sph[i-1,j,2]\n",
    "                \n",
    "                x=(-(data_sph[i-1,j,1]+data_sph[i,j,8])/2+10)*20\n",
    "                y=((data_sph[i-1,j,0]+data_sph[i,j,7])/2-6)*20\n",
    "                x_velo=(data_sph[i-1,j,0]+data_sph[i,j,7])/2\n",
    "                y_velo=(data_sph[i-1,j,1]+data_sph[i,j,8])/2\n",
    "                z_velo=(data_sph[i-1,j,2]+data_sph[i,j,9])/2\n",
    "                boundary.append((np.int(x),800-np.int(y)))\n",
    "                boundary_xyz.append([x_velo,y_velo,z_velo,0])\n",
    "                break\n",
    "                \n",
    "                \n",
    "                \n",
    "            elif(y_fil[i,j]>0 and data_sph[i,j,0]>0):\n",
    "                \n",
    "#                 x=(-data_sph[i,j,1]*np.tan(data_sph[i,j,5])/np.tan(data_sph[i,j,5]+y_shift)+10)*20\n",
    "#                 y=(data_sph[i,j,0]*np.tan(data_sph[i,j,5])/np.tan(data_sph[i,j,5]+y_shift)-6)*20\n",
    "                \n",
    "#                 x_velo=data_sph[i,j,0]*np.tan(data_sph[i,j,5])/np.tan(data_sph[i,j,5]+y_shift)\n",
    "#                 y_velo=data_sph[i,j,1]*np.tan(data_sph[i,j,5])/np.tan(data_sph[i,j,5]+y_shift)\n",
    "#                 z_velo=data_sph[i,j,2]\n",
    "\n",
    "                x=(-data_sph[i,j,8]*np.tan(data_sph[i,j,12])/np.tan(data_sph[i,j,12]+y_shift/2)+10)*20\n",
    "                y=(data_sph[i,j,7]*np.tan(data_sph[i,j,12])/np.tan(data_sph[i,j,12]+y_shift/2)-6)*20\n",
    "                \n",
    "                x_velo=data_sph[i,j,7]*np.tan(data_sph[i,j,12])/np.tan(data_sph[i,j,12]+y_shift/2)\n",
    "                y_velo=data_sph[i,j,8]*np.tan(data_sph[i,j,12])/np.tan(data_sph[i,j,12]+y_shift/2)\n",
    "                z_velo=data_sph[i,j,9]\n",
    "\n",
    "#                 x=(-data_sph[i,j,8]+10)*20\n",
    "#                 y=(data_sph[i,j,7]-6)*20\n",
    "                \n",
    "#                 x_velo=data_sph[i,j,7]\n",
    "#                 y_velo=data_sph[i,j,8]\n",
    "#                 z_velo=data_sph[i,j,9]\n",
    "                \n",
    "                \n",
    "                \n",
    "                \n",
    "                boundary.append((np.int(x),800-np.int(y)))\n",
    "                boundary_xyz.append([x_velo,y_velo,z_velo,0])\n",
    "#                 print (i,x,y)\n",
    "#                 print (j,i,data_sph[i,j,1],data_sph[i,j,0],data_sph[i,j,5],data_sph[i,j,5]+y_shift/2,x,y)\n",
    "                break\n",
    "    \n",
    "    \n",
    "    \n",
    "    \n",
    "    lower_boundary=[]\n",
    "    lower_boundary_xyz=[]\n",
    "    for j in range(180):\n",
    "        for i in range(63,-1,-1):\n",
    "            if(y_fil[i,j]>0 and data_sph[i+2,j,0]>0):\n",
    "                \n",
    "                x=(-data_sph[i+1,j,1]+10)*20\n",
    "                y=(data_sph[i+1,j,0]-6)*20\n",
    "                \n",
    "                \n",
    "                x_velo=data_sph[i+1,j,0]\n",
    "                y_velo=data_sph[i+1,j,1]\n",
    "                z_velo=data_sph[i+1,j,2]\n",
    "                \n",
    "                \n",
    "                lower_boundary.append((np.int(x),800-np.int(y)))                                \n",
    "                lower_boundary_xyz.append([x_velo,y_velo,z_velo,0])\n",
    "                break\n",
    "\n",
    "\n",
    "    #### generate res_BEV   #####\n",
    "#     boundary.append((boundary[-1][0],800))\n",
    "#     boundary.append((boundary[0][0],800))\n",
    "    boundary.append((200,920))\n",
    "    lower_boundary.append((200,920)) \n",
    "    \n",
    "    \n",
    "    \n",
    "    res_img=Image.new('L', (400,800), color=0)\n",
    "    draw = ImageDraw.Draw(res_img)\n",
    "    draw.polygon(boundary,fill=255,outline=255)\n",
    "    draw.polygon(lower_boundary,fill=0,outline=0)\n",
    "    del draw\n",
    "    res_img.save(res_BEV_dir+res_name,'png')\n",
    "    \n",
    "    \n",
    "    #### generate res_cam   #####\n",
    "#     boundary_xyz.append([1,boundary_xyz[-1][1],boundary_xyz[-1][2],0])\n",
    "#     boundary_xyz.append([1,boundary_xyz[0][1],boundary_xyz[0][2],0])\n",
    "\n",
    "    boundary_xyz.append([1,0,boundary_xyz[0][2],0])\n",
    "    lower_boundary_xyz.append([1,0,lower_boundary_xyz[0][2],0])\n",
    "\n",
    "    boundary_img=pykitti_obj.Trans_velo_to_img(Tr_velo_to_img,boundary_xyz) \n",
    "    lower_boundary_img=pykitti_obj.Trans_velo_to_img(Tr_velo_to_img,lower_boundary_xyz) \n",
    "    \n",
    "    boundary_img_list=[]\n",
    "    lower_boundary_img_list=[]\n",
    "    for j in range(boundary_img.shape[0]):\n",
    "        boundary_img_list.append((np.int(boundary_img[j,0]),np.int(boundary_img[j,1])))\n",
    "        lower_boundary_img_list.append((np.int(lower_boundary_img[j,0]),np.int(lower_boundary_img[j,1])))\n",
    "                                 \n",
    "#     boundary_img_list.append((np.int(cam2.shape[1]/2),cam2.shape[0]))\n",
    "#     boundary_img_list.append((np.int(cam2.shape[1]/2),cam2.shape[0]))\n",
    "                                 \n",
    "    res_cam=Image.new('L', (cam2.shape[1],cam2.shape[0]), color=0)\n",
    "    draw_cam = ImageDraw.Draw(res_cam)\n",
    "    draw_cam.polygon(boundary_img_list,fill=255,outline=255)\n",
    "    draw_cam.polygon(lower_boundary_img_list,fill=0,outline=0)\n",
    "    del draw_cam\n",
    "    res_cam.save(res_cam_dir+res_name,'png')\n",
    "    \n",
    "    \n",
    "    \n",
    "    \n",
    "    #### generate res_vis   #####\n",
    "    res_cam_array=np.array(res_cam)\n",
    "    vis_cam_array=cam2*255\n",
    "    vis_cam_array[:,:,0]=vis_cam_array[:,:,0]*(1-res_cam_array/255)\n",
    "    vis_cam=Image.fromarray(np.uint8(vis_cam_array))\n",
    "    vis_cam.save(res_vis_dir+res_name,'png')\n",
    "    \n",
    "    #### generate res_sph   #####\n",
    "#     res_sph=Image.fromarray(np.uint8(y_fil)*255)\n",
    "#     res_sph.save(res_sph_dir+res_name,'png')\n",
    "\n",
    "                                 \n",
    "    print \"finish  frame \"+res_name"
   ]
  },
  {
   "cell_type": "code",
   "execution_count": null,
   "metadata": {},
   "outputs": [],
   "source": []
  },
  {
   "cell_type": "code",
   "execution_count": null,
   "metadata": {},
   "outputs": [],
   "source": [
    "# boundary"
   ]
  },
  {
   "cell_type": "code",
   "execution_count": null,
   "metadata": {},
   "outputs": [],
   "source": [
    "# boundary_img"
   ]
  },
  {
   "cell_type": "code",
   "execution_count": null,
   "metadata": {},
   "outputs": [],
   "source": [
    "vis_cam"
   ]
  },
  {
   "cell_type": "code",
   "execution_count": null,
   "metadata": {},
   "outputs": [],
   "source": [
    "Image.fromarray(np.uint8(y_dset[0]*255))"
   ]
  },
  {
   "cell_type": "code",
   "execution_count": null,
   "metadata": {},
   "outputs": [],
   "source": [
    "Image.fromarray(np.uint8(y_fil*255))"
   ]
  },
  {
   "cell_type": "code",
   "execution_count": null,
   "metadata": {},
   "outputs": [],
   "source": [
    "res_img"
   ]
  },
  {
   "cell_type": "code",
   "execution_count": null,
   "metadata": {},
   "outputs": [],
   "source": [
    "Image.fromarray(np.uint8(cam2*255))"
   ]
  },
  {
   "cell_type": "code",
   "execution_count": null,
   "metadata": {
    "scrolled": true
   },
   "outputs": [],
   "source": []
  },
  {
   "cell_type": "code",
   "execution_count": null,
   "metadata": {},
   "outputs": [],
   "source": [
    "y_dset.shape"
   ]
  },
  {
   "cell_type": "code",
   "execution_count": null,
   "metadata": {},
   "outputs": [],
   "source": [
    "y_dset[:,:,90]"
   ]
  },
  {
   "cell_type": "code",
   "execution_count": null,
   "metadata": {},
   "outputs": [],
   "source": [
    "a=util.img_as_ubyte(y_dset[0])\n",
    "a[:,90]"
   ]
  },
  {
   "cell_type": "code",
   "execution_count": null,
   "metadata": {},
   "outputs": [],
   "source": []
  },
  {
   "cell_type": "code",
   "execution_count": null,
   "metadata": {},
   "outputs": [],
   "source": []
  },
  {
   "cell_type": "code",
   "execution_count": null,
   "metadata": {},
   "outputs": [],
   "source": []
  },
  {
   "cell_type": "code",
   "execution_count": null,
   "metadata": {},
   "outputs": [],
   "source": []
  },
  {
   "cell_type": "code",
   "execution_count": null,
   "metadata": {},
   "outputs": [],
   "source": []
  },
  {
   "cell_type": "code",
   "execution_count": null,
   "metadata": {},
   "outputs": [],
   "source": []
  },
  {
   "cell_type": "code",
   "execution_count": null,
   "metadata": {},
   "outputs": [],
   "source": []
  },
  {
   "cell_type": "code",
   "execution_count": null,
   "metadata": {},
   "outputs": [],
   "source": []
  },
  {
   "cell_type": "code",
   "execution_count": null,
   "metadata": {},
   "outputs": [],
   "source": []
  },
  {
   "cell_type": "code",
   "execution_count": null,
   "metadata": {},
   "outputs": [],
   "source": []
  },
  {
   "cell_type": "code",
   "execution_count": null,
   "metadata": {},
   "outputs": [],
   "source": []
  },
  {
   "cell_type": "code",
   "execution_count": null,
   "metadata": {},
   "outputs": [],
   "source": []
  },
  {
   "cell_type": "code",
   "execution_count": null,
   "metadata": {},
   "outputs": [],
   "source": []
  },
  {
   "cell_type": "code",
   "execution_count": null,
   "metadata": {},
   "outputs": [],
   "source": []
  },
  {
   "cell_type": "code",
   "execution_count": null,
   "metadata": {},
   "outputs": [],
   "source": []
  },
  {
   "cell_type": "code",
   "execution_count": null,
   "metadata": {},
   "outputs": [],
   "source": []
  },
  {
   "cell_type": "code",
   "execution_count": null,
   "metadata": {},
   "outputs": [],
   "source": []
  },
  {
   "cell_type": "code",
   "execution_count": null,
   "metadata": {},
   "outputs": [],
   "source": []
  },
  {
   "cell_type": "code",
   "execution_count": null,
   "metadata": {},
   "outputs": [],
   "source": []
  },
  {
   "cell_type": "code",
   "execution_count": null,
   "metadata": {},
   "outputs": [],
   "source": []
  },
  {
   "cell_type": "code",
   "execution_count": null,
   "metadata": {},
   "outputs": [],
   "source": []
  }
 ],
 "metadata": {
  "kernelspec": {
   "display_name": "Python 2",
   "language": "python",
   "name": "python2"
  },
  "language_info": {
   "codemirror_mode": {
    "name": "ipython",
    "version": 2
   },
   "file_extension": ".py",
   "mimetype": "text/x-python",
   "name": "python",
   "nbconvert_exporter": "python",
   "pygments_lexer": "ipython2",
   "version": "2.7.12"
  }
 },
 "nbformat": 4,
 "nbformat_minor": 2
}
